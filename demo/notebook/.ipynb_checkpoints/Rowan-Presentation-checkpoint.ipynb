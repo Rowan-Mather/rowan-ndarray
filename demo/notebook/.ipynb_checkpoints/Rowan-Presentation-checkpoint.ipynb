{
 "cells": [
  {
   "cell_type": "markdown",
   "metadata": {},
   "source": [
    "# Numskull Demo!"
   ]
  },
  {
   "cell_type": "code",
   "execution_count": 1,
   "metadata": {},
   "outputs": [],
   "source": [
    "{-# LANGUAGE TypeApplications #-}\n",
    "{-# LANGUAGE TemplateHaskell #-}\n",
    "{-# LANGUAGE QuasiQuotes #-}\n",
    "import Numskull\n",
    "import Data.Maybe (fromJust)\n",
    "import Type.Reflection\n",
    "\n",
    "p = printArray"
   ]
  },
  {
   "cell_type": "markdown",
   "metadata": {},
   "source": [
    "It's easy to make arrays."
   ]
  },
  {
   "cell_type": "code",
   "execution_count": 2,
   "metadata": {},
   "outputs": [
    {
     "data": {
      "text/plain": [
       "2.0 4.0 6.0"
      ]
     },
     "metadata": {},
     "output_type": "display_data"
    },
    {
     "data": {
      "text/plain": [
       "3.14"
      ]
     },
     "metadata": {},
     "output_type": "display_data"
    },
    {
     "data": {
      "text/plain": [
       " 1  2  3  4  5 \n",
       " 6  7  8  9 10 \n",
       "11 12 13 14 15 \n",
       "16 17 18 19 20"
      ]
     },
     "metadata": {},
     "output_type": "display_data"
    },
    {
     "data": {
      "text/plain": [
       "0 0 0 \n",
       "0 0 0 \n",
       "0 0 0"
      ]
     },
     "metadata": {},
     "output_type": "display_data"
    },
    {
     "data": {
      "text/plain": [
       "1 2 \n",
       "3 4 \n",
       "5 6"
      ]
     },
     "metadata": {},
     "output_type": "display_data"
    }
   ],
   "source": [
    "p $ fromList [3] [2,4,6]\n",
    "\n",
    "p $ singleton 3.14\n",
    "\n",
    "p.fromJust $ reshape [4,5] $ arange 1 (20::Int)\n",
    "\n",
    "p $ zeros (typeRep @Int) [3,3]\n",
    "\n",
    "l :: TreeMatrix Int\n",
    "l   = A [A [B 1,  B 2],\n",
    "         A [B 3,  B 4],\n",
    "         A [B 5,  B 6]]\n",
    "p $ fromMatrix l"
   ]
  },
  {
   "cell_type": "markdown",
   "metadata": {},
   "source": [
    "Or take slices of them..."
   ]
  },
  {
   "cell_type": "code",
   "execution_count": null,
   "metadata": {},
   "outputs": [
    {
     "data": {
      "text/plain": [
       "3D Array:"
      ]
     },
     "metadata": {},
     "output_type": "display_data"
    },
    {
     "data": {
      "text/plain": [
       "3 1 4 \n",
       "1 5 9 \n",
       "2 6 5 \n",
       "\n",
       "3 5 8 \n",
       "9 7 9 \n",
       "3 2 3"
      ]
     },
     "metadata": {},
     "output_type": "display_data"
    },
    {
     "data": {
      "text/plain": [
       "Sliced:"
      ]
     },
     "metadata": {},
     "output_type": "display_data"
    },
    {
     "data": {
      "text/plain": [
       "1 5 9 \n",
       "2 6 5"
      ]
     },
     "metadata": {},
     "output_type": "display_data"
    },
    {
     "data": {
      "text/plain": [
       "Sliced, but fancier:"
      ]
     },
     "metadata": {},
     "output_type": "display_data"
    },
    {
     "data": {
      "text/plain": [
       "1 5 9 \n",
       "2 6 5"
      ]
     },
     "metadata": {},
     "output_type": "display_data"
    }
   ],
   "source": [
    "piNd = fromList [2,3,3] [3,1,4,1,5,9,2,6,5,3,5,8,9,7,9,3,2,3::Int]\n",
    "\n",
    "putStrLn \"3D Array:\"\n",
    "p piNd\n",
    "\n",
    "putStrLn \"Sliced:\"\n",
    "p $ slice [(0,0), (1,2)] piNd\n",
    "\n",
    "putStrLn \"Sliced, but fancier:\"\n",
    "p $ piNd /! [q|0,1:3|]"
   ]
  },
  {
   "cell_type": "markdown",
   "metadata": {},
   "source": [
    "And switch values or even types"
   ]
  },
  {
   "cell_type": "code",
   "execution_count": 4,
   "metadata": {},
   "outputs": [
    {
     "data": {
      "text/plain": [
       "100   3   6  10  15  21  28  36  45"
      ]
     },
     "metadata": {},
     "output_type": "display_data"
    },
    {
     "data": {
      "text/plain": [
       " 1.0  3.0  6.0 10.0 15.0 21.0 28.0 36.0 45.0"
      ]
     },
     "metadata": {},
     "output_type": "display_data"
    },
    {
     "data": {
      "text/plain": [
       "1 1 0 1"
      ]
     },
     "metadata": {},
     "output_type": "display_data"
    }
   ],
   "source": [
    "intNd = fromListFlat [1, 3, 6, 10, 15, 21, 28, 36, 45 :: Int]\n",
    "boolNd = fromListFlat [True, True, False, True]\n",
    "\n",
    "p $ update intNd [0] 100\n",
    "\n",
    "p $ convertDTypeTo (typeRep @Double) intNd\n",
    "p $ matchDType intNd boolNd"
   ]
  },
  {
   "cell_type": "markdown",
   "metadata": {},
   "source": [
    "And do all sorts of fun maths!"
   ]
  },
  {
   "cell_type": "code",
   "execution_count": 5,
   "metadata": {},
   "outputs": [
    {
     "data": {
      "text/plain": [
       "Numeracy:"
      ]
     },
     "metadata": {},
     "output_type": "display_data"
    },
    {
     "data": {
      "text/plain": [
       "10 11  2 \n",
       "13 14  5 \n",
       " 6  7  8"
      ]
     },
     "metadata": {},
     "output_type": "display_data"
    },
    {
     "data": {
      "text/plain": [
       "10 11  2 \n",
       "13 14  5 \n",
       " 6  7  8"
      ]
     },
     "metadata": {},
     "output_type": "display_data"
    },
    {
     "data": {
      "text/plain": [
       " 0 10  0 \n",
       "30 40  0 \n",
       " 0  0  0"
      ]
     },
     "metadata": {},
     "output_type": "display_data"
    },
    {
     "data": {
      "text/plain": [
       "Powers/logs:"
      ]
     },
     "metadata": {},
     "output_type": "display_data"
    },
    {
     "data": {
      "text/plain": [
       " 0  1  4 \n",
       " 9 16 25 \n",
       "36 49 64"
      ]
     },
     "metadata": {},
     "output_type": "display_data"
    },
    {
     "data": {
      "text/plain": [
       "Average:"
      ]
     },
     "metadata": {},
     "output_type": "display_data"
    },
    {
     "data": {
      "text/plain": [
       "5 5 1 \n",
       "6 7 2 \n",
       "3 3 4"
      ]
     },
     "metadata": {},
     "output_type": "display_data"
    },
    {
     "data": {
      "text/plain": [
       "Transpose & diagonal:"
      ]
     },
     "metadata": {},
     "output_type": "display_data"
    },
    {
     "data": {
      "text/plain": [
       "0 3 6 \n",
       "1 4 7 \n",
       "2 5 8"
      ]
     },
     "metadata": {},
     "output_type": "display_data"
    },
    {
     "data": {
      "text/plain": [
       "0 4 8"
      ]
     },
     "metadata": {},
     "output_type": "display_data"
    },
    {
     "data": {
      "text/plain": [
       "Matrix multiplication:"
      ]
     },
     "metadata": {},
     "output_type": "display_data"
    },
    {
     "data": {
      "text/plain": [
       " 2.0  3.0 \n",
       " 6.0 11.0"
      ]
     },
     "metadata": {},
     "output_type": "display_data"
    },
    {
     "data": {
      "text/plain": [
       "16.0 23.0 \n",
       "24.0 37.0"
      ]
     },
     "metadata": {},
     "output_type": "display_data"
    },
    {
     "data": {
      "text/plain": [
       "Determinant:"
      ]
     },
     "metadata": {},
     "output_type": "display_data"
    },
    {
     "data": {
      "text/plain": [
       "[40.0]"
      ]
     },
     "metadata": {},
     "output_type": "display_data"
    }
   ],
   "source": [
    "nd1 = fromList [3,3] [0..8::Int]\n",
    "nd2 = padShape [3,3] $ fromList [2,2] [10,10,10,10::Int]\n",
    "\n",
    "putStrLn \"Numeracy:\"\n",
    "p $   nd1 + nd2\n",
    "p $   Numskull.sum [nd1, nd2]\n",
    "p $   nd1 * nd2\n",
    "\n",
    "putStrLn \"Powers/logs:\"\n",
    "p $   elemPow nd1 (fromList [3,3] $ replicate 9 (2::Int))\n",
    "\n",
    "putStrLn \"Average:\"\n",
    "p $   mean [nd1, nd2]\n",
    "\n",
    "putStrLn \"Transpose & diagonal:\"\n",
    "p $   transpose nd1\n",
    "p $   diagonal nd1\n",
    "\n",
    "putStrLn \"Matrix multiplication:\"\n",
    "nd3 = fromList [2,2] [0..3::Float]\n",
    "nd4 = fromList [2,2] [4..7::Float]\n",
    "p $   matMul nd3 nd3\n",
    "m = fromJust (gemm nd3 nd3 nd4 True False 3 1)\n",
    "p     m\n",
    "\n",
    "putStrLn \"Determinant:\"\n",
    "print (determinant m :: [Float])"
   ]
  },
  {
   "cell_type": "markdown",
   "metadata": {},
   "source": [
    "If the built-in numskull operations aren't good enough for you, and you don't want to write your own, just use NumPy.\n",
    "\n",
    "NumSkull will serialise most standard DType arrays to NumPy .npy files and back. But you're just going to have to trust me a bit here..."
   ]
  },
  {
   "cell_type": "code",
   "execution_count": 6,
   "metadata": {},
   "outputs": [
    {
     "data": {
      "text/plain": [
       "0 1 2 \n",
       "3 4 5 \n",
       "6 7 8"
      ]
     },
     "metadata": {},
     "output_type": "display_data"
    }
   ],
   "source": [
    "saveNpy \"./serialisationdemo.npy\" nd1\n",
    "loadNpy \"./serialisationdemo.npy\" >>= p"
   ]
  },
  {
   "cell_type": "code",
   "execution_count": null,
   "metadata": {},
   "outputs": [],
   "source": []
  }
 ],
 "metadata": {
  "kernelspec": {
   "display_name": "Haskell",
   "language": "haskell",
   "name": "haskell"
  },
  "language_info": {
   "codemirror_mode": "ihaskell",
   "file_extension": ".hs",
   "mimetype": "text/x-haskell",
   "name": "haskell",
   "pygments_lexer": "Haskell",
   "version": "9.0.2"
  }
 },
 "nbformat": 4,
 "nbformat_minor": 2
}
