{
 "cells": [
  {
   "cell_type": "markdown",
   "metadata": {},
   "source": [
    "# Numskull Demo!"
   ]
  },
  {
   "cell_type": "code",
   "execution_count": 3,
   "metadata": {},
   "outputs": [
    {
     "ename": "",
     "evalue": "",
     "output_type": "error",
     "traceback": [
      "<interactive>:1:5: error:\n    • Can't find interface-file declaration for variable printArray\n        Probable cause: bug in .hi-boot file, or inconsistent .hi file\n        Use -ddump-if-trace to get an idea of which file caused the error\n    • In the expression: printArray\n      In an equation for ‘p’: p = printArray"
     ]
    }
   ],
   "source": [
    "{-# LANGUAGE TypeApplications #-}\n",
    "{-# LANGUAGE TemplateHaskell #-}\n",
    "{-# LANGUAGE QuasiQuotes #-}\n",
    "import Numskull\n",
    "import Data.Maybe (fromJust)\n",
    "import Type.Reflection\n",
    "\n",
    "p = printArray"
   ]
  },
  {
   "cell_type": "markdown",
   "metadata": {},
   "source": [
    "It's easy to make arrays."
   ]
  },
  {
   "cell_type": "code",
   "execution_count": 4,
   "metadata": {},
   "outputs": [
    {
     "ename": "",
     "evalue": "",
     "output_type": "error",
     "traceback": [
      "<interactive>:1:1: error: Variable not in scope: p :: NdArray -> t"
     ]
    }
   ],
   "source": [
    "p $ fromList [3] [2,4,6]\n",
    "\n",
    "p $ singleton 3.14\n",
    "\n",
    "p.fromJust $ reshape [4,5] $ arange 1 (20::Int)\n",
    "\n",
    "p $ zeros (typeRep @Int) [3,3]\n",
    "\n",
    "l :: TreeMatrix Int\n",
    "l   = A [A [B 1,  B 2],\n",
    "         A [B 3,  B 4],\n",
    "         A [B 5,  B 6]]\n",
    "p $ fromMatrix l"
   ]
  },
  {
   "cell_type": "markdown",
   "metadata": {},
   "source": [
    "Or take slices of them..."
   ]
  },
  {
   "cell_type": "code",
   "execution_count": 5,
   "metadata": {},
   "outputs": [
    {
     "ename": "",
     "evalue": "",
     "output_type": "error",
     "traceback": [
      "<command line>: /nix/store/llzcby92zdn7wwawj50y90abjz1hzlr0-numskull-0.1.0.0/lib/ghc-9.0.2/x86_64-linux-ghc-9.0.2/libHSnumskull-0.1.0.0-Jzem7IPC4coA4KXysvkrJd-ghc9.0.2.so: undefined symbol: numskullzm0zi1zi0zi0zmJzzem7IPC4coA4KXysvkrJd_Indexing_slice_info"
     ]
    }
   ],
   "source": [
    "piNd = fromList [2,3,3] [3,1,4,1,5,9,2,6,5,3,5,8,9,7,9,3,2,3::Int]\n",
    "\n",
    "putStrLn \"3D Array:\"\n",
    "p piNd\n",
    "\n",
    "putStrLn \"Sliced:\"\n",
    "p $ slice [(0,0), (1,2)] piNd\n",
    "\n",
    "putStrLn \"Sliced, but fancier:\"\n",
    "p $ piNd /! [q|0,1:2|]"
   ]
  },
  {
   "cell_type": "markdown",
   "metadata": {},
   "source": [
    "And switch values or even types"
   ]
  },
  {
   "cell_type": "code",
   "execution_count": 6,
   "metadata": {},
   "outputs": [
    {
     "ename": "",
     "evalue": "",
     "output_type": "error",
     "traceback": [
      "<command line>: /nix/store/llzcby92zdn7wwawj50y90abjz1hzlr0-numskull-0.1.0.0/lib/ghc-9.0.2/x86_64-linux-ghc-9.0.2/libHSnumskull-0.1.0.0-Jzem7IPC4coA4KXysvkrJd-ghc9.0.2.so: undefined symbol: numskullzm0zi1zi0zi0zmJzzem7IPC4coA4KXysvkrJd_Indexing_slice_info"
     ]
    }
   ],
   "source": [
    "intNd = fromListFlat [1, 3, 6, 10, 15, 21, 28, 36, 45 :: Int]\n",
    "boolNd = fromListFlat [True, True, False, True]\n",
    "\n",
    "p $ update intNd [0] 100\n",
    "\n",
    "p $ convertDTypeTo (typeRep @Double) intNd\n",
    "p $ matchDType intNd boolNd"
   ]
  },
  {
   "cell_type": "markdown",
   "metadata": {},
   "source": [
    "And do all sorts of fun maths!"
   ]
  },
  {
   "cell_type": "code",
   "execution_count": 7,
   "metadata": {},
   "outputs": [
    {
     "ename": "",
     "evalue": "",
     "output_type": "error",
     "traceback": [
      "<command line>: /nix/store/llzcby92zdn7wwawj50y90abjz1hzlr0-numskull-0.1.0.0/lib/ghc-9.0.2/x86_64-linux-ghc-9.0.2/libHSnumskull-0.1.0.0-Jzem7IPC4coA4KXysvkrJd-ghc9.0.2.so: undefined symbol: numskullzm0zi1zi0zi0zmJzzem7IPC4coA4KXysvkrJd_Indexing_slice_info"
     ]
    }
   ],
   "source": [
    "nd1 = fromList [3,3] [0..8::Int]\n",
    "nd2 = padShape [3,3] $ fromList [2,2] [10,10,10,10::Int]\n",
    "\n",
    "putStrLn \"Numeracy:\"\n",
    "p $   nd1 + nd2\n",
    "p $   Numskull.sum [nd1, nd2]\n",
    "p $   nd1 * nd2\n",
    "\n",
    "putStrLn \"Powers/logs:\"\n",
    "p $   elemPow nd1 (fromList [3,3] $ replicate 9 (2::Int))\n",
    "\n",
    "putStrLn \"Average:\"\n",
    "p $   mean [nd1, nd2]\n",
    "\n",
    "putStrLn \"Transpose & diagonal:\"\n",
    "p $   transpose nd1\n",
    "p $   diagonal nd1\n",
    "\n",
    "putStrLn \"Matrix multiplication:\"\n",
    "nd3 = fromList [2,2] [0..3::Float]\n",
    "nd4 = fromList [2,2] [4..7::Float]\n",
    "p $   matMul nd3 nd3\n",
    "m = fromJust (gemm nd3 nd3 nd4 True False 3 1)\n",
    "p     m\n",
    "\n",
    "putStrLn \"Determinant:\"\n",
    "print (determinant m :: [Float])"
   ]
  },
  {
   "cell_type": "markdown",
   "metadata": {},
   "source": [
    "If the built-in numskull operations aren't good enough for you, and you don't want to write your own, just use NumPy.\n",
    "\n",
    "NumSkull will serialise most standard DType arrays to NumPy .npy files and back. But you're just going to have to trust me a bit here..."
   ]
  },
  {
   "cell_type": "code",
   "execution_count": null,
   "metadata": {},
   "outputs": [
    {
     "ename": "",
     "evalue": "",
     "output_type": "error",
     "traceback": [
      "<interactive>:1:1: error:\n    • Can't find interface-file declaration for variable saveNpy\n        Probable cause: bug in .hi-boot file, or inconsistent .hi file\n        Use -ddump-if-trace to get an idea of which file caused the error\n    • In the expression: saveNpy \"./serialisationdemo.npy\" nd1\n      In an equation for ‘it’: it = saveNpy \"./serialisationdemo.npy\" nd1"
     ]
    }
   ],
   "source": [
    "saveNpy \"./serialisationdemo.npy\" nd1\n",
    "loadNpy \"./serialisationdemo.npy\" >>= p"
   ]
  },
  {
   "cell_type": "code",
   "execution_count": null,
   "metadata": {},
   "outputs": [],
   "source": []
  }
 ],
 "metadata": {
  "kernelspec": {
   "display_name": "Haskell",
   "language": "haskell",
   "name": "haskell"
  },
  "language_info": {
   "codemirror_mode": "ihaskell",
   "file_extension": ".hs",
   "mimetype": "text/x-haskell",
   "name": "haskell",
   "pygments_lexer": "Haskell",
   "version": "9.0.2"
  }
 },
 "nbformat": 4,
 "nbformat_minor": 2
}
